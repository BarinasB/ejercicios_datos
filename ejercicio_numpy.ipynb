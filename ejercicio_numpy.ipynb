{
  "nbformat": 4,
  "nbformat_minor": 0,
  "metadata": {
    "colab": {
      "provenance": []
    },
    "kernelspec": {
      "name": "python3",
      "display_name": "Python 3"
    },
    "language_info": {
      "name": "python"
    }
  },
  "cells": [
    {
      "cell_type": "code",
      "execution_count": 20,
      "metadata": {
        "colab": {
          "base_uri": "https://localhost:8080/",
          "height": 121
        },
        "id": "O1MA3ILP6Mka",
        "outputId": "c1f365a9-1a39-4750-f242-173bd1953bed"
      },
      "outputs": [
        {
          "output_type": "display_data",
          "data": {
            "text/plain": [
              "array([[28., 47., 42.],\n",
              "       [29., 35., 37.],\n",
              "       [45., 50., 23.]])"
            ]
          },
          "metadata": {}
        },
        {
          "output_type": "display_data",
          "data": {
            "text/plain": [
              "array([[4912., 4724., 3310.],\n",
              "       [4908., 3813., 3243.],\n",
              "       [4603., 4839., 2603.]])"
            ]
          },
          "metadata": {}
        }
      ],
      "source": [
        "import numpy as np  \n",
        "\n",
        "matriz_1 = np.random.uniform(     ## creacion de la matriz 1\n",
        "    low=20,\n",
        "    high=50, \n",
        "    size = (3,3) \n",
        ")   \n",
        "\n",
        "matriz_1_enteros = matriz_1.round()\n",
        "\n",
        "\n",
        "matriz_2 = np.random.uniform(      ## creacion de la matriz 2\n",
        "    low=2000,\n",
        "    high=5000, \n",
        "    size = (3,3) \n",
        ")   \n",
        "\n",
        "matriz_2_enteros = matriz_2.round()  \n",
        "\n",
        "display(\n",
        "    matriz_1_enteros,\n",
        "    matriz_2_enteros \n",
        ")"
      ]
    },
    {
      "cell_type": "code",
      "source": [
        "matriz_1_9x1 = matriz_1_enteros.reshape(9,1)   # vuele la matriz en 9x1\n",
        "\n",
        "matriz_2_9x1 = matriz_2_enteros.reshape(9,1)   # vuelve la matriz en 9x1\n",
        "\n",
        "matriz_1_2_9x2 = np.column_stack((matriz_1_9x1,matriz_2_9x1))  # une las matrices 9x1\n",
        "\n",
        "print(matriz_1_2_9x2)"
      ],
      "metadata": {
        "colab": {
          "base_uri": "https://localhost:8080/"
        },
        "id": "yO95lUml9m9u",
        "outputId": "66b8731c-9339-4e60-96f4-7b0090d7fc82"
      },
      "execution_count": 19,
      "outputs": [
        {
          "output_type": "stream",
          "name": "stdout",
          "text": [
            "[[  29. 2214.]\n",
            " [  44. 3333.]\n",
            " [  46. 3946.]\n",
            " [  45. 3589.]\n",
            " [  33. 4783.]\n",
            " [  22. 4015.]\n",
            " [  33. 3064.]\n",
            " [  26. 3442.]\n",
            " [  42. 3044.]]\n"
          ]
        }
      ]
    },
    {
      "cell_type": "code",
      "source": [
        "entre_20_30 = matriz_1_2_9x2 < 30 \n",
        "\n",
        "entre_2000_5000 = matriz_1_2_9x2 > 2000 \n",
        "\n",
        "Salida = np.logical_or(entre_20_30 ,entre_2000_5000)\n",
        "\n",
        "display (\n",
        "  Salida\n",
        ")\n",
        "\n",
        "matriz_1_2_9x2[Salida]\n",
        "\n"
      ],
      "metadata": {
        "colab": {
          "base_uri": "https://localhost:8080/",
          "height": 208
        },
        "id": "HRwndMCw-g8-",
        "outputId": "83028311-93e6-4dc6-dcd1-b5b96e593230"
      },
      "execution_count": 50,
      "outputs": [
        {
          "output_type": "display_data",
          "data": {
            "text/plain": [
              "array([[ True,  True],\n",
              "       [False,  True],\n",
              "       [False,  True],\n",
              "       [False,  True],\n",
              "       [False,  True],\n",
              "       [ True,  True],\n",
              "       [False,  True],\n",
              "       [ True,  True],\n",
              "       [False,  True]])"
            ]
          },
          "metadata": {}
        },
        {
          "output_type": "execute_result",
          "data": {
            "text/plain": [
              "array([  29., 2214., 3333., 3946., 3589., 4783.,   22., 4015., 3064.,\n",
              "         26., 3442., 3044.])"
            ]
          },
          "metadata": {},
          "execution_count": 50
        }
      ]
    }
  ]
}